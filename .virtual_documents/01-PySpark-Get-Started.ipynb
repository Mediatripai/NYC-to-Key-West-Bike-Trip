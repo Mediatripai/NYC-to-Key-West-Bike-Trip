# Import PySpark
from pyspark.sql import SparkSession


# Create a SparkSession
spark = SparkSession.builder.appName("PySpark-Get-Started").getOrCreate()


# Test the setup
data = [("Alice", 25), ("Bob", 30), ("Charlie", 35)]
df = spark.createDataFrame(data, ["Name", "Age"])
df.show()



